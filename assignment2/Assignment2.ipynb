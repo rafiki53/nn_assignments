{
 "cells": [
  {
   "cell_type": "code",
   "execution_count": 2,
   "metadata": {
    "collapsed": false
   },
   "outputs": [
    {
     "name": "stdout",
     "output_type": "stream",
     "text": [
      "Populating the interactive namespace from numpy and matplotlib\n"
     ]
    },
    {
     "name": "stderr",
     "output_type": "stream",
     "text": [
      "/home/rafiki/anaconda2/lib/python2.7/site-packages/IPython/core/magics/pylab.py:161: UserWarning: pylab import has clobbered these variables: ['mean']\n",
      "`%matplotlib` prevents importing * from pylab and numpy\n",
      "  \"\\n`%matplotlib` prevents importing * from pylab and numpy\"\n"
     ]
    }
   ],
   "source": [
    "%pylab inline"
   ]
  },
  {
   "cell_type": "code",
   "execution_count": 22,
   "metadata": {
    "collapsed": false
   },
   "outputs": [
    {
     "name": "stdout",
     "output_type": "stream",
     "text": [
      "('bull', 'Polish', -6.2219288688290577, -inf)\n",
      "('bull', 'Spanish', -6.2936668182434392, -6.2219288688290577)\n",
      "('bull', 'English', -6.2254558501275046, -6.2219288688290577)\n",
      "('bull', 'Polish')\n",
      "('burro', 'Polish', -9.9330539318903135, -inf)\n",
      "('burro', 'Spanish', -8.7374699131530225, -9.9330539318903135)\n",
      "('burro', 'English', -8.8147901175247299, -8.7374699131530225)\n",
      "('burro', 'Spanish')\n",
      "('kurczak', 'Polish', -9.303319977354926, -inf)\n",
      "('kurczak', 'Spanish', -9.5635599828801414, -9.303319977354926)\n",
      "('kurczak', 'English', -9.7546438283010648, -9.303319977354926)\n",
      "('kurczak', 'Polish')\n",
      "('pollo', 'Polish', -9.7626851945582462, -inf)\n",
      "('pollo', 'Spanish', -7.6500808297842626, -9.7626851945582462)\n",
      "('pollo', 'English', -7.8134599783049756, -7.6500808297842626)\n",
      "('pollo', 'Spanish')\n",
      "('litwo, ojczyzno moja, ty jeste\\xc5\\x9b jak zdrowie', 'Polish', -56.261463288101936, -inf)\n",
      "('litwo, ojczyzno moja, ty jeste\\xc5\\x9b jak zdrowie', 'Spanish', -55.333974653838631, -56.261463288101936)\n",
      "('litwo, ojczyzno moja, ty jeste\\xc5\\x9b jak zdrowie', 'English', -53.785918949166337, -55.333974653838631)\n",
      "('litwo, ojczyzno moja, ty jeste\\xc5\\x9b jak zdrowie', 'English')\n",
      "('dinero', 'Polish', -11.147304787107119, -inf)\n",
      "('dinero', 'Spanish', -10.084639397621606, -11.147304787107119)\n",
      "('dinero', 'English', -9.9516654495593375, -10.084639397621606)\n",
      "('dinero', 'English')\n",
      "('mama just killed a man put a gun against his head', 'Polish', -57.108254475967222, -inf)\n",
      "('mama just killed a man put a gun against his head', 'Spanish', -59.809679627583563, -57.108254475967222)\n",
      "('mama just killed a man put a gun against his head', 'English', -60.928333036028647, -57.108254475967222)\n",
      "('mama just killed a man put a gun against his head', 'Polish')\n",
      "('maradona es mas grande que pele', 'Polish', -40.874644038728434, -inf)\n",
      "('maradona es mas grande que pele', 'Spanish', -38.941124565281868, -40.874644038728434)\n",
      "('maradona es mas grande que pele', 'English', -39.850141941113883, -38.941124565281868)\n",
      "('maradona es mas grande que pele', 'Spanish')\n",
      "{'Polish': ({'a': -2.2535092553474532, 'e': -2.6101978009347055, 'i': -2.4855468546754236, 'o': -3.7111250630612562, 'other': -0.41394092658920817, 'u': -3.881493800393323, 'y': -3.4401461318007303}, -1.0986122886681098), 'Spanish': ({'a': -2.160651597105379, 'e': -2.1052928252702694, 'i': -2.7730688374766586, 'o': -2.4438030949095833, 'other': -0.55462078376566226, 'u': -3.5311921782783426, 'y': -4.5972020163389145}, -1.0986122886681098), 'English': ({'a': -2.5050685416119527, 'e': -2.0634107246073081, 'i': -2.6641290140442817, 'o': -2.5893342673972262, 'other': -0.51205971828080421, 'u': -3.5906644066169813, 'y': -3.9251082449768013}, -1.0986122886681098)}\n"
     ]
    }
   ],
   "source": [
    "\n",
    "E = {'a': 0.08167, 'e':0.12702, 'i':0.06966, 'o':0.07507, 'u':0.02758, 'y':0.01974, \"other\":0.59926}\n",
    "P = {'a': 0.10503, 'e':0.07352, 'i':0.08328, 'o':0.02445, 'u':0.02062, 'y':0.03206, \"other\":0.66104}\n",
    "S = {'a': 0.11525, 'e':0.12181, 'i':0.06247, 'o':0.08683, 'u':0.02927, 'y':0.01008, \"other\":0.57429}\n",
    "\n",
    "pe = np.log(1 / 3.0)\n",
    "pp = np.log(1 / 3.0)\n",
    "ps = np.log(1 / 3.0)\n",
    "\n",
    "#pe = np.log(0.5)\n",
    "#pp = np.log(0.2)\n",
    "#ps = np.log(0.3)\n",
    "\n",
    "L = {'English' : (E, pe), 'Polish' : (P, pp), 'Spanish' : (S, ps)}\n",
    "\n",
    "for l in L:        \n",
    "    d = L[l][0]\n",
    "    for k in d:\n",
    "        d[k] = np.log(d[k])\n",
    "\n",
    "def get_val(L, c):\n",
    "    if c in L:\n",
    "        return L[c]\n",
    "    else:\n",
    "        return L[\"other\"]\n",
    "        \n",
    "def get_p_of_int(L, pl, s):\n",
    "    return pl + np.sum(get_val(L, c) for c in s)\n",
    "\n",
    "def classify(s):\n",
    "    best = float(\"-inf\")\n",
    "    for l in L:\n",
    "        p = get_p_of_int(L[l][0], L[l][1], s)\n",
    "        print(s, l, p, best)\n",
    "        if p > best:\n",
    "            ans = l\n",
    "            best = p\n",
    "    return ans\n",
    "\n",
    "exa = [\"bull\", \"burro\", \"kurczak\", \"pollo\", \"litwo, ojczyzno moja, ty jesteś jak zdrowie\", \"dinero\",\n",
    "       \"mama just killed a man put a gun against his head\", \"maradona es mas grande que pele\"]\n",
    "\n",
    "for e in exa:\n",
    "    print(e, classify(e))\n",
    "    \n",
    "print(L)\n"
   ]
  },
  {
   "cell_type": "code",
   "execution_count": 11,
   "metadata": {
    "collapsed": false
   },
   "outputs": [
    {
     "data": {
      "image/png": "[encoded data removed]",
      "text/plain": [
       "<matplotlib.figure.Figure at 0x7fa788d5afd0>"
      ]
     },
     "metadata": {},
     "output_type": "display_data"
    },
    {
     "data": {
      "image/png": "[encoded data removed]",
      "text/plain": [
       "<matplotlib.figure.Figure at 0x7fa760890710>"
      ]
     },
     "metadata": {},
     "output_type": "display_data"
    },
    {
     "data": {
      "image/png": "[encoded data removed]",
      "text/plain": [
       "<matplotlib.figure.Figure at 0x7fa76081df90>"
      ]
     },
     "metadata": {},
     "output_type": "display_data"
    },
    {
     "data": {
      "image/png": "[encoded data removed]",
      "text/plain": [
       "<matplotlib.figure.Figure at 0x7fa760a23690>"
      ]
     },
     "metadata": {},
     "output_type": "display_data"
    }
   ],
   "source": [
    "mean = 0.4\n",
    "\n",
    "def lhood(p, s, n):\n",
    "    return (p ** s) * (1 - p) ** (n - s) * (1e100)\n",
    "\n",
    "def attempt(n):\n",
    "    s = np.sum(np.random.rand() < mean for i in range(n))\n",
    "    plt.plot(np.linspace(0.0, 1.0, 1000), [lhood(p, s, n) for p in np.linspace(0.0, 1.0, 1000)])\n",
    "    plt.plot([1.0 * s / n, 1.0 * s / n], [0.0, np.amax([lhood(p, s, n) for p in np.linspace(0.0, 1.0, 1000)])])\n",
    "    plt.show()\n",
    "attempt(50)\n",
    "attempt(100)\n",
    "attempt(500)\n",
    "attempt(1000)"
   ]
  },
  {
   "cell_type": "code",
   "execution_count": 20,
   "metadata": {
    "collapsed": false
   },
   "outputs": [
    {
     "name": "stdout",
     "output_type": "stream",
     "text": [
      "{'P': {'P': 0.36363636363636365, 'S': 0.2727272727272727, 'R': 0.36363636363636365}, 'S': {'P': 0.6363636363636364, 'S': 0.18181818181818182, 'R': 0.18181818181818182}, 'R': {'P': 0.0, 'S': 0.8571428571428571, 'R': 0.14285714285714285}}\n",
      "{'P': 0.4, 'S': 0.36666666666666664, 'R': 0.23333333333333334}\n",
      "5336\n"
     ]
    }
   ],
   "source": [
    "s = \"PPRSSRSPPRSPRRSPPPSSPRSPSPSRSP\"\n",
    "moves = ['P', 'R', 'S']\n",
    "pb1 = {}\n",
    "pb2 = {}\n",
    "for m1 in moves:\n",
    "    pb1[m1] = {}\n",
    "    for m2 in moves:\n",
    "        pb1[m1][m2] = 1.0 * np.sum([(s[i] == m1 and s[i + 1] == m2) for i in range(len(s) - 1)]) / np.sum([s[i] == m1 for i in range(len(s) - 1)]) \n",
    "    pb2[m1] = 1.0 * np.sum([s[i] == m1 for i in range(len(s))]) / len(s)\n",
    "        \n",
    "print(pb1)\n",
    "print(pb2)\n",
    "        \n",
    "def get_mv1(prev):\n",
    "    a = np.random.rand()\n",
    "    cdf = 0.0\n",
    "    for m in pb1[prev]:\n",
    "        cdf += pb1[prev][m]\n",
    "        if cdf > a:\n",
    "            return m\n",
    "def get_mv2():\n",
    "    a = np.random.rand()\n",
    "    cdf = 0.0\n",
    "    for m in pb2:\n",
    "        cdf += pb2[m]\n",
    "        if cdf > a:\n",
    "            return m\n",
    "\n",
    "klap = 'R'\n",
    "score = 0\n",
    "\n",
    "def wins(mv1, mv2):\n",
    "    return (mv1 == 'P' and mv2 == 'R') or (mv1 == 'R' and mv2 == 'S') or (mv1 == 'S' and mv2 == 'P')\n",
    "\n",
    "def get_res(mv1, mv2):\n",
    "    if wins(mv1, mv2):\n",
    "        return 1\n",
    "    elif wins(mv2, mv1):\n",
    "        return -1\n",
    "    return 0\n",
    "    \n",
    "    \n",
    "\n",
    "for i in range(1000000):\n",
    "    klap = get_mv1(klap)\n",
    "    trurl = get_mv2()\n",
    "    score += get_res(klap, trurl)\n",
    "print score\n",
    "    "
   ]
  }
 ],
 "metadata": {
  "kernelspec": {
   "display_name": "Python 2",
   "language": "python",
   "name": "python2"
  },
  "language_info": {
   "codemirror_mode": {
    "name": "ipython",
    "version": 2
   },
   "file_extension": ".py",
   "mimetype": "text/x-python",
   "name": "python",
   "nbconvert_exporter": "python",
   "pygments_lexer": "ipython2",
   "version": "2.7.13"
  }
 },
 "nbformat": 4,
 "nbformat_minor": 2
}
