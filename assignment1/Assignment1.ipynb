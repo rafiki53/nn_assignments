{
 "cells": [
  {
   "cell_type": "markdown",
   "metadata": {},
   "source": [
    "# Assignment 1\n",
    "\n",
    "**Submission deadline:**\n",
    "* **Problems 1-4: last lab session before or on Thursday, 8.3.17**\n",
    "* **Problems 5-6: last lab session before or on Thursday, 15.3.17**\n",
    "\n",
    "**Points: 10 + 4 bonus points**\n",
    "\n",
    "Please note: some of the assignments are tedious or boring if you are already a NumPy ninja. The bonus problems were designed to give you a more satisfying alternative.\n",
    "\n",
    "## Downloading this notebook\n",
    "\n",
    "This assignment is an Jupyter notebook. Download it by cloning https://github.com/janchorowski/nn_assignments. Follow the instructions in its README for instructions. Whenever possible, add your solutions to the notebook. \n",
    "\n",
    "Please email us about any problems with it - we will try to correct them quickly. Also, please do not hesitate to use GitHub’s pull requests to send us corrections!"
   ]
  },
  {
   "cell_type": "code",
   "execution_count": 2,
   "metadata": {
    "collapsed": false
   },
   "outputs": [],
   "source": [
    "# Standard IPython notebook imports\n",
    "%matplotlib inline\n",
    "import numpy as np\n",
    "\n",
    "from __future__ import absolute_import\n",
    "from __future__ import division\n",
    "from __future__ import print_function"
   ]
  },
  {
   "cell_type": "markdown",
   "metadata": {},
   "source": [
    "## Problem 0 [0p]\n",
    "\n",
    "Get familiar with our [lab guide](https://docs.google.com/viewer?a=v&pid=sites&srcid=Y3MudW5pLndyb2MucGx8amNofGd4OjM0ZTU2MjA4M2NlOGIwNmE). It is not obligatory to use the labs remotely and most of the time you will do just fine with your own machine. However, we recommend using labs for the most computationally-intensive tasks such as the final projects.\n",
    "\n",
    "Make sure you know how to:\n",
    "* load up-to-date Anaconda Python distribution with `/pio/os/anaconda/set-env.sh` (confirm with `python -V`)\n",
    "<br/>\n",
    "(also: look into this `nn_assignments`' `set-env.sh` and see that it loads `Anaconda` for you),\n",
    "* connect to labs 110/137 from *outside* of the faculty,\n",
    "* copy a file over an ssh tunnel or connect remotely to a Jupyter Notebook,\n",
    "* use `GNU screen` and/or `nohup`,\n",
    "* leave a process running, disconnect, connect again and verify it is still running.\n",
    "\n",
    "In case of problems, ask for help!"
   ]
  },
  {
   "cell_type": "markdown",
   "metadata": {},
   "source": [
    "## Problem 1 [2p]\n",
    "\n",
    "First, get familiar with Python at https://docs.python.org/2/tutorial/. Then, get\n",
    "to know the capabilities of NumPy, the prime numerical library of Python http://www.numpy.org/, for instance with the tutorial at http://wiki.scipy.org/Tentative_NumPy_Tutorial.\n",
    "\n",
    "You might also need:\n",
    "  1. another intro to NumPy,\n",
    "http://people.duke.edu/~ccc14/pcfb/numerics.html\n",
    "  2. a better interactive shell for Python,\n",
    "http://ipython.org/\n",
    "  3. access to IPython through an ordinary web browser,\n",
    "http://ipython.org/notebook.html\n",
    "  4. a plotting library for Python.\n",
    "http://matplotlib.org/\n",
    "\n",
    "**a) Declare variables:**\n",
    "1. $a=10$,\n",
    "2. $b=2.5\\times 10^{23}$,\n",
    "3. $c=2+3i$, where $i$ is an imaginary unit,\n",
    "4. $d=e^{i2\\pi/3}$, where $i$ is an imaginary unit, $e$ is the Euler's number (use `exp`, `pi`)."
   ]
  },
  {
   "cell_type": "code",
   "execution_count": 9,
   "metadata": {
    "collapsed": false
   },
   "outputs": [],
   "source": [
    "# TODO: Complete the declarations\n",
    "a = 10\n",
    "b = 2.5e23\n",
    "c = 2 + 3j\n",
    "d = np.exp((2.0 * np.pi / 3.0) * 1j)"
   ]
  },
  {
   "cell_type": "markdown",
   "metadata": {},
   "source": [
    "**b) Declare vectors:**\n",
    "1. $aVec=\\begin{bmatrix} 3.14 & 15 & 9 & 26 \\end{bmatrix}$,\n",
    "2. $bVec=\\begin{bmatrix} 2.71 & 8 & 28 & 182 \\end{bmatrix}^\\intercal$ (column vector),\n",
    "3. $cVec=\\begin{bmatrix} 5 & 4.8 & \\cdots & -4.8 & -5 \\end{bmatrix}$ (vector of numbers from $5$ to $-5$ decreasing by $0.2$),\n",
    "4. $dVec=\\begin{bmatrix} 10^0 & 10^{0.01} & \\cdots & 10^{0.99} & 10^1 \\end{bmatrix}$ (logarithmically spaced numbers from 1 to 10, use `logspace` and make sure, that the result has correct length!),\n",
    "5. $eVec=Hello$ ($eVec$ is a string of characters, thus a vector)."
   ]
  },
  {
   "cell_type": "code",
   "execution_count": 8,
   "metadata": {
    "collapsed": false
   },
   "outputs": [
    {
     "name": "stdout",
     "output_type": "stream",
     "text": [
      "[  3.14  15.     9.    26.  ]\n",
      "[[   2.71]\n",
      " [   8.  ]\n",
      " [  28.  ]\n",
      " [ 182.  ]]\n",
      "[  5.00000000e+00   4.80000000e+00   4.60000000e+00   4.40000000e+00\n",
      "   4.20000000e+00   4.00000000e+00   3.80000000e+00   3.60000000e+00\n",
      "   3.40000000e+00   3.20000000e+00   3.00000000e+00   2.80000000e+00\n",
      "   2.60000000e+00   2.40000000e+00   2.20000000e+00   2.00000000e+00\n",
      "   1.80000000e+00   1.60000000e+00   1.40000000e+00   1.20000000e+00\n",
      "   1.00000000e+00   8.00000000e-01   6.00000000e-01   4.00000000e-01\n",
      "   2.00000000e-01  -4.44089210e-15  -2.00000000e-01  -4.00000000e-01\n",
      "  -6.00000000e-01  -8.00000000e-01  -1.00000000e+00  -1.20000000e+00\n",
      "  -1.40000000e+00  -1.60000000e+00  -1.80000000e+00  -2.00000000e+00\n",
      "  -2.20000000e+00  -2.40000000e+00  -2.60000000e+00  -2.80000000e+00\n",
      "  -3.00000000e+00  -3.20000000e+00  -3.40000000e+00  -3.60000000e+00\n",
      "  -3.80000000e+00  -4.00000000e+00  -4.20000000e+00  -4.40000000e+00\n",
      "  -4.60000000e+00  -4.80000000e+00  -5.00000000e+00]\n",
      "[  1.           1.02329299   1.04712855   1.07151931   1.0964782\n",
      "   1.12201845   1.14815362   1.17489755   1.20226443   1.23026877\n",
      "   1.25892541   1.28824955   1.31825674   1.34896288   1.38038426\n",
      "   1.41253754   1.44543977   1.47910839   1.51356125   1.54881662\n",
      "   1.58489319   1.6218101    1.65958691   1.69824365   1.73780083\n",
      "   1.77827941   1.81970086   1.86208714   1.90546072   1.9498446\n",
      "   1.99526231   2.04173794   2.08929613   2.13796209   2.18776162\n",
      "   2.23872114   2.29086765   2.34422882   2.39883292   2.45470892\n",
      "   2.51188643   2.57039578   2.63026799   2.6915348    2.7542287\n",
      "   2.81838293   2.8840315    2.95120923   3.01995172   3.09029543\n",
      "   3.16227766   3.23593657   3.31131121   3.38844156   3.4673685\n",
      "   3.54813389   3.63078055   3.71535229   3.80189396   3.89045145\n",
      "   3.98107171   4.07380278   4.16869383   4.26579519   4.36515832\n",
      "   4.46683592   4.5708819    4.67735141   4.78630092   4.89778819\n",
      "   5.01187234   5.12861384   5.2480746    5.37031796   5.49540874\n",
      "   5.62341325   5.75439937   5.88843655   6.02559586   6.16595002\n",
      "   6.30957344   6.45654229   6.60693448   6.76082975   6.91830971\n",
      "   7.07945784   7.2443596    7.41310241   7.58577575   7.76247117\n",
      "   7.94328235   8.12830516   8.31763771   8.51138038   8.7096359\n",
      "   8.91250938   9.12010839   9.33254301   9.54992586   9.77237221  10.        ]\n",
      "Hello\n"
     ]
    }
   ],
   "source": [
    "aVec = np.array([3.14, 15, 9, 26])\n",
    "bVec = np.array([2.71, 8, 28, 182]).reshape(4, 1)\n",
    "cVec = np.arange(5, -5.1, -0.2)\n",
    "dVec = np.logspace(0, 1, num = 101)\n",
    "eVec = \"Hello\"\n",
    "print(aVec)\n",
    "print(bVec)\n",
    "print(cVec)\n",
    "print(dVec)\n",
    "print(eVec)"
   ]
  },
  {
   "cell_type": "markdown",
   "metadata": {},
   "source": [
    "**c) Declare matrices:**\n",
    "1. $aMat=\\begin{bmatrix}\n",
    "                    2      & \\cdots & 2 \\\\\n",
    "                    \\vdots & \\ddots & \\vdots \\\\\n",
    "                    2      & \\cdots & 2\n",
    "                \\end{bmatrix}$,\n",
    "<br/>\n",
    "matrix $9\\times 9$ filled with 2s (use `ones` or `zeros`),\n",
    "2. $bMat=\\begin{bmatrix}\n",
    "                    1      & 0      & \\cdots &        & 0      \\\\\n",
    "                    0      & \\ddots & 0      &        & 0      \\\\\n",
    "                    \\vdots & 0      & 5      & 0      & \\vdots \\\\\n",
    "                           &        & 0      & \\ddots & 0      \\\\\n",
    "                    0      &        & \\cdots & 0      & 1\n",
    "                \\end{bmatrix}$,\n",
    "<br/>\n",
    "matrix $9\\times 9$ filled with zeros, with $\\begin{bmatrix} 1 & 2 & 3 & 4 & 5 & 4 & 3 & 2 & 1 \\end{bmatrix}$ on its diagonal (use `zeros`, `diag`),\n",
    "3. $cMat=\\begin{bmatrix}\n",
    "                    1      & 11     & \\cdots & 91     \\\\\n",
    "                    2      & 12     & \\ddots & 92     \\\\\n",
    "                    \\vdots & \\vdots & \\ddots & \\vdots \\\\\n",
    "                    10     & 20     & \\cdots & 100\n",
    "                \\end{bmatrix}$,\n",
    "<br/>\n",
    "matrix $10\\times 10$, columns of which form the vector $1:100$ (use `reshape`),\n",
    "4. $dMat=\\begin{bmatrix}\n",
    "                    NaN & NaN & NaN & NaN \\\\\n",
    "                    NaN & NaN & NaN & NaN \\\\\n",
    "                    NaN & NaN & NaN & NaN\n",
    "                \\end{bmatrix}$,\n",
    "<br/>\n",
    "matrix $3\\times 4$ filled with `NaN`s (use... `NaN`),\n",
    "5. $eMat=\\begin{bmatrix}\n",
    "                    13  & -1  & 5  \\\\\n",
    "                    -22 & 10  & -87\n",
    "                \\end{bmatrix}$,\n",
    "<br/>\n",
    "6. $fMat$ filled with random natural numbers from $[-3,3]$ (use `rand` and `floor` or `ceil`)."
   ]
  },
  {
   "cell_type": "code",
   "execution_count": 5,
   "metadata": {
    "collapsed": false
   },
   "outputs": [
    {
     "name": "stdout",
     "output_type": "stream",
     "text": [
      "[[ 2.  2.  2.  2.  2.  2.  2.  2.  2.]\n",
      " [ 2.  2.  2.  2.  2.  2.  2.  2.  2.]\n",
      " [ 2.  2.  2.  2.  2.  2.  2.  2.  2.]\n",
      " [ 2.  2.  2.  2.  2.  2.  2.  2.  2.]\n",
      " [ 2.  2.  2.  2.  2.  2.  2.  2.  2.]\n",
      " [ 2.  2.  2.  2.  2.  2.  2.  2.  2.]\n",
      " [ 2.  2.  2.  2.  2.  2.  2.  2.  2.]\n",
      " [ 2.  2.  2.  2.  2.  2.  2.  2.  2.]\n",
      " [ 2.  2.  2.  2.  2.  2.  2.  2.  2.]]\n",
      "[[1 0 0 0 0 0 0 0 0]\n",
      " [0 2 0 0 0 0 0 0 0]\n",
      " [0 0 3 0 0 0 0 0 0]\n",
      " [0 0 0 4 0 0 0 0 0]\n",
      " [0 0 0 0 5 0 0 0 0]\n",
      " [0 0 0 0 0 4 0 0 0]\n",
      " [0 0 0 0 0 0 3 0 0]\n",
      " [0 0 0 0 0 0 0 2 0]\n",
      " [0 0 0 0 0 0 0 0 1]]\n",
      "[[   1.   11.   21.   31.   41.   51.   61.   71.   81.   91.]\n",
      " [   2.   12.   22.   32.   42.   52.   62.   72.   82.   92.]\n",
      " [   3.   13.   23.   33.   43.   53.   63.   73.   83.   93.]\n",
      " [   4.   14.   24.   34.   44.   54.   64.   74.   84.   94.]\n",
      " [   5.   15.   25.   35.   45.   55.   65.   75.   85.   95.]\n",
      " [   6.   16.   26.   36.   46.   56.   66.   76.   86.   96.]\n",
      " [   7.   17.   27.   37.   47.   57.   67.   77.   87.   97.]\n",
      " [   8.   18.   28.   38.   48.   58.   68.   78.   88.   98.]\n",
      " [   9.   19.   29.   39.   49.   59.   69.   79.   89.   99.]\n",
      " [  10.   20.   30.   40.   50.   60.   70.   80.   90.  100.]]\n",
      "[[ nan  nan  nan  nan]\n",
      " [ nan  nan  nan  nan]\n",
      " [ nan  nan  nan  nan]]\n",
      "[[ 13  -1   5]\n",
      " [-22  10 -87]]\n",
      "[[ 3. -2.  3.]\n",
      " [ 3. -2.  1.]\n",
      " [ 3. -2. -1.]]\n"
     ]
    }
   ],
   "source": [
    "aMat = 2 * np.ones((9, 9))\n",
    "bMat = np.diag([1, 2, 3, 4, 5, 4, 3, 2, 1])\n",
    "cMat = np.arange(1, 100.1).reshape((10, 10)).T\n",
    "dMat = np.NaN * np.ones((3, 4))\n",
    "eMat = np.array([[13, -1, 5], [-22, 10, -87]])\n",
    "fMat = np.floor(-3 * np.ones((3, 3)) + 7 * np.random.rand(3, 3))\n",
    "print(aMat)\n",
    "print(bMat)\n",
    "print(cMat)\n",
    "print(dMat)\n",
    "print(eMat)\n",
    "print(fMat)"
   ]
  },
  {
   "cell_type": "markdown",
   "metadata": {},
   "source": [
    "** d) Declare a multiplication table ** as a $10\\times 10$ matrix `mulMat`. Use matrix/vector multiplication."
   ]
  },
  {
   "cell_type": "code",
   "execution_count": 52,
   "metadata": {
    "collapsed": false
   },
   "outputs": [
    {
     "name": "stdout",
     "output_type": "stream",
     "text": [
      "[[   1.    2.    3.    4.    5.    6.    7.    8.    9.   10.]\n",
      " [   2.    4.    6.    8.   10.   12.   14.   16.   18.   20.]\n",
      " [   3.    6.    9.   12.   15.   18.   21.   24.   27.   30.]\n",
      " [   4.    8.   12.   16.   20.   24.   28.   32.   36.   40.]\n",
      " [   5.   10.   15.   20.   25.   30.   35.   40.   45.   50.]\n",
      " [   6.   12.   18.   24.   30.   36.   42.   48.   54.   60.]\n",
      " [   7.   14.   21.   28.   35.   42.   49.   56.   63.   70.]\n",
      " [   8.   16.   24.   32.   40.   48.   56.   64.   72.   80.]\n",
      " [   9.   18.   27.   36.   45.   54.   63.   72.   81.   90.]\n",
      " [  10.   20.   30.   40.   50.   60.   70.   80.   90.  100.]]\n"
     ]
    }
   ],
   "source": [
    "mulMat = np.arange(1, 10.1).reshape((10, 1)).dot(np.arange(1, 10.1).reshape((1, 10)))\n",
    "print(mulMat)"
   ]
  },
  {
   "cell_type": "markdown",
   "metadata": {},
   "source": [
    "** e) Compute elemwise using values from b).**\n",
    "For instance, the first element of $xVec[0]$ should be equal to\n",
    "\n",
    "\\begin{equation}\n",
    "1/(\\sqrt{2\\pi2.5^2}) e^{-cVec[0]^2 / (2\\cdot\\pi 2.5^2)}.\n",
    "\\end{equation}\n",
    "\n",
    "1. $xVec=1/(\\sqrt{2\\pi2.5^2}) e^{-cVec^2 / (2\\cdot\\pi 2.5^2)}$\n",
    "2. $yVec=\\sqrt{(aVec^\\intercal)^2 + bVec^2}$\n",
    "3. $zVec=\\log_{10}(1/dVec)$, using `log10`"
   ]
  },
  {
   "cell_type": "code",
   "execution_count": 9,
   "metadata": {
    "collapsed": false
   },
   "outputs": [
    {
     "name": "stdout",
     "output_type": "stream",
     "text": [
      "[ 0.0844286   0.08874945  0.09310157  0.09746835  0.10183228  0.10617507\n",
      "  0.11047778  0.11472091  0.11888457  0.12294862  0.12689283  0.13069705\n",
      "  0.13434136  0.13780626  0.14107285  0.14412296  0.14693938  0.14950594\n",
      "  0.15180777  0.15383133  0.15556462  0.15699729  0.1581207   0.15892806\n",
      "  0.15941445  0.15957691  0.15941445  0.15892806  0.1581207   0.15699729\n",
      "  0.15556462  0.15383133  0.15180777  0.14950594  0.14693938  0.14412296\n",
      "  0.14107285  0.13780626  0.13434136  0.13069705  0.12689283  0.12294862\n",
      "  0.11888457  0.11472091  0.11047778  0.10617507  0.10183228  0.09746835\n",
      "  0.09310157  0.08874945  0.0844286 ]\n",
      "[[   4.14773432   15.24283766    9.39915422   26.14085117]\n",
      " [   8.59416081   17.           12.04159458   27.20294102]\n",
      " [  28.17551419   31.76476035   29.41088234   38.20994635]\n",
      " [ 182.0270848   182.61708573  182.2223916   183.84776311]]\n",
      "[ 0.   -0.01 -0.02 -0.03 -0.04 -0.05 -0.06 -0.07 -0.08 -0.09 -0.1  -0.11\n",
      " -0.12 -0.13 -0.14 -0.15 -0.16 -0.17 -0.18 -0.19 -0.2  -0.21 -0.22 -0.23\n",
      " -0.24 -0.25 -0.26 -0.27 -0.28 -0.29 -0.3  -0.31 -0.32 -0.33 -0.34 -0.35\n",
      " -0.36 -0.37 -0.38 -0.39 -0.4  -0.41 -0.42 -0.43 -0.44 -0.45 -0.46 -0.47\n",
      " -0.48 -0.49 -0.5  -0.51 -0.52 -0.53 -0.54 -0.55 -0.56 -0.57 -0.58 -0.59\n",
      " -0.6  -0.61 -0.62 -0.63 -0.64 -0.65 -0.66 -0.67 -0.68 -0.69 -0.7  -0.71\n",
      " -0.72 -0.73 -0.74 -0.75 -0.76 -0.77 -0.78 -0.79 -0.8  -0.81 -0.82 -0.83\n",
      " -0.84 -0.85 -0.86 -0.87 -0.88 -0.89 -0.9  -0.91 -0.92 -0.93 -0.94 -0.95\n",
      " -0.96 -0.97 -0.98 -0.99 -1.  ]\n"
     ]
    }
   ],
   "source": [
    "xVec = 1 / np.sqrt(2 * np.pi * (2.5 ** 2)) * np.exp(-(cVec ** 2) / (2 * np.pi * (2.5 ** 2)))\n",
    "yVec = np.sqrt(aVec ** 2 + bVec ** 2)\n",
    "zVec = np.log10(1 / dVec)\n",
    "print(xVec)\n",
    "print(yVec)\n",
    "print(zVec)"
   ]
  },
  {
   "cell_type": "markdown",
   "metadata": {},
   "source": [
    "** f) Compute with matrix/vector operations using values from c).**\n",
    "1. $xMat=(aVec\\cdot bVec)aMat^2$,\n",
    "2. $yMat=bVec\\cdot aVec$\n",
    "<br/>\n",
    "(remember, that matrix multiplication is not commutative),\n",
    "4. $zMat=\\lvert cMat\\rvert (aMat\\cdot bMat)^\\intercal$, where $\\lvert A\\rvert$ denotes determinant of $A$ (use `det`)."
   ]
  },
  {
   "cell_type": "code",
   "execution_count": 13,
   "metadata": {
    "collapsed": false
   },
   "outputs": [
    {
     "name": "stdout",
     "output_type": "stream",
     "text": [
      "[[ 184050.3384  184050.3384  184050.3384  184050.3384  184050.3384\n",
      "   184050.3384  184050.3384  184050.3384  184050.3384]\n",
      " [ 184050.3384  184050.3384  184050.3384  184050.3384  184050.3384\n",
      "   184050.3384  184050.3384  184050.3384  184050.3384]\n",
      " [ 184050.3384  184050.3384  184050.3384  184050.3384  184050.3384\n",
      "   184050.3384  184050.3384  184050.3384  184050.3384]\n",
      " [ 184050.3384  184050.3384  184050.3384  184050.3384  184050.3384\n",
      "   184050.3384  184050.3384  184050.3384  184050.3384]\n",
      " [ 184050.3384  184050.3384  184050.3384  184050.3384  184050.3384\n",
      "   184050.3384  184050.3384  184050.3384  184050.3384]\n",
      " [ 184050.3384  184050.3384  184050.3384  184050.3384  184050.3384\n",
      "   184050.3384  184050.3384  184050.3384  184050.3384]\n",
      " [ 184050.3384  184050.3384  184050.3384  184050.3384  184050.3384\n",
      "   184050.3384  184050.3384  184050.3384  184050.3384]\n",
      " [ 184050.3384  184050.3384  184050.3384  184050.3384  184050.3384\n",
      "   184050.3384  184050.3384  184050.3384  184050.3384]\n",
      " [ 184050.3384  184050.3384  184050.3384  184050.3384  184050.3384\n",
      "   184050.3384  184050.3384  184050.3384  184050.3384]]\n",
      "[[    8.5094    40.65      24.39      70.46  ]\n",
      " [   25.12     120.        72.       208.    ]\n",
      " [   87.92     420.       252.       728.    ]\n",
      " [  571.48    2730.      1638.      4732.    ]]\n",
      "[[ 0.  0.  0.  0.  0.  0.  0.  0.  0.]\n",
      " [ 0.  0.  0.  0.  0.  0.  0.  0.  0.]\n",
      " [ 0.  0.  0.  0.  0.  0.  0.  0.  0.]\n",
      " [ 0.  0.  0.  0.  0.  0.  0.  0.  0.]\n",
      " [ 0.  0.  0.  0.  0.  0.  0.  0.  0.]\n",
      " [ 0.  0.  0.  0.  0.  0.  0.  0.  0.]\n",
      " [ 0.  0.  0.  0.  0.  0.  0.  0.  0.]\n",
      " [ 0.  0.  0.  0.  0.  0.  0.  0.  0.]\n",
      " [ 0.  0.  0.  0.  0.  0.  0.  0.  0.]]\n"
     ]
    }
   ],
   "source": [
    "xMat = aVec.dot(bVec) * (aMat.dot(aMat))\n",
    "yMat = bVec.dot(aVec.reshape(1, 4))\n",
    "zMat = np.linalg.det(cMat) * ((aMat.dot(bMat)).T)\n",
    "print(xMat)\n",
    "print(yMat)\n",
    "print(zMat)"
   ]
  },
  {
   "cell_type": "markdown",
   "metadata": {},
   "source": [
    "** g) Declare `ismagic(A)` function ** which checks if matrix $A$ is a [magic square](https://en.wikipedia.org/wiki/Magic_square) and returns a boolean."
   ]
  },
  {
   "cell_type": "code",
   "execution_count": 107,
   "metadata": {
    "collapsed": false
   },
   "outputs": [
    {
     "name": "stdout",
     "output_type": "stream",
     "text": [
      "True\n",
      "False\n"
     ]
    }
   ],
   "source": [
    "def ismagic(A):\n",
    "    s = A.shape\n",
    "    n = s[0]\n",
    "    if n != s[1]:\n",
    "        return False\n",
    "    v = np.concatenate((np.sum(A, 0), np.sum(A, 1), [np.sum(np.diag(A))], [np.sum(np.diag(np.flipud(A)))]))\n",
    "    return np.unique(v).size == 1 and np.unique(A).size == n ** 2 and np.min(A) == 1 and np.max(A) == n ** 2\n",
    "    # TODO\n",
    "print(ismagic(np.array([[2, 7, 6], [9, 5, 1], [4, 3, 8]])))\n",
    "print(ismagic(2 * np.ones((2, 2))))"
   ]
  },
  {
   "cell_type": "markdown",
   "metadata": {},
   "source": [
    "# k-Nearest Neighbors\n",
    "\n",
    "The following excerpt of code loads the data describing iris flowers\n",
    "and shows relations between their length and petal width for three\n",
    "species (namely: setosa, versicolor, virginica)."
   ]
  },
  {
   "cell_type": "code",
   "execution_count": 2,
   "metadata": {
    "collapsed": false
   },
   "outputs": [
    {
     "name": "stdout",
     "output_type": "stream",
     "text": [
      "Populating the interactive namespace from numpy and matplotlib\n",
      "('Features: ', ['sepal length (cm)', 'sepal width (cm)', 'petal length (cm)', 'petal width (cm)'])\n",
      "('Targets: ', array(['setosa', 'versicolor', 'virginica'], \n",
      "      dtype='|S10'))\n"
     ]
    },
    {
     "data": {
      "text/plain": [
       "<matplotlib.legend.Legend at 0x7f068eaa2910>"
      ]
     },
     "execution_count": 2,
     "metadata": {},
     "output_type": "execute_result"
    },
    {
     "data": {
      "image/png": "[encoded data removed]",
      "text/plain": [
       "<matplotlib.figure.Figure at 0x7f0694a88ed0>"
      ]
     },
     "metadata": {},
     "output_type": "display_data"
    }
   ],
   "source": [
    "# pylab - loads numerical and graphical libraries into the IPython notebook\n",
    "%pylab inline\n",
    "\n",
    "# sklearn is a large collection of machine learning algorithms\n",
    "# here we’ll use it only for the built-in iris dataset\n",
    "from sklearn import datasets\n",
    "\n",
    "iris = datasets.load_iris()\n",
    "\n",
    "print('Features: ', iris.feature_names)\n",
    "print('Targets: ', iris.target_names)\n",
    "\n",
    "petal_length = iris.data[:,iris.feature_names.index('petal length (cm)')]\n",
    "petal_width = iris.data[:, iris.feature_names.index('petal width (cm)')]\n",
    "\n",
    "for target in set(iris.target):\n",
    "    example_ids = target==iris.target\n",
    "    scatter(petal_length[example_ids], petal_width[example_ids],\n",
    "            label=iris.target_names[target], color='bgr'[target],\n",
    "            marker='x', alpha=0.7)\n",
    "unknown = np.array([\n",
    "                    [1.5, 0.3],\n",
    "                    [4.5, 1.2],\n",
    "                    [5.5, 2.3],\n",
    "                    [5.1, 1.7]\n",
    "                   ])\n",
    "scatter(unknown[:,0], unknown[:,1], marker='v', color='gray', s=50, label='??')\n",
    "xlabel('petal length (cm)')\n",
    "ylabel('petal width (cm)')\n",
    "grid(True)\n",
    "legend(loc='upper left')"
   ]
  },
  {
   "cell_type": "markdown",
   "metadata": {},
   "source": [
    "Based on these two features, it is easy to distinguish iris setosa from the two remaining species. Yet iris versicolor and virginica remain mixed together. \n",
    "\n",
    "Looking closely at the plot, we might estimate the spieces of the selected unknown irises (gray triangles). For three of them the answer seems obvious – they belong in uniformly-colored areas covered by one spieces only. Yet unknown iris flower in (5.1, 1.7) is troublesome – it lays on the boundary of versicolor and virginica clusters. We can assume, that its species is the one of the closest one to it, coming from the training set (and so having a label). \n",
    "\n",
    "K-Nearest Neighbors method (http://en.wikipedia.org/wiki/K-nearest_neighbors_algorithm) solves the classification problem, i.e. sets class labels (species in case of irises) of a previously unseen sample by choosing the most common class among the top k neighbors of the sample in question (for instance according to the Euclidean distance). Thus, the k-Nearest Neighbors algorithm works as follows. For each unlabeled sample x:\n",
    "1. Find k nearest neighbors among the labeled samples.\n",
    "2. Set the most common label among them as label of x."
   ]
  },
  {
   "cell_type": "markdown",
   "metadata": {},
   "source": [
    "## Problem 2 [2p]\n",
    "\n",
    "1.  **[1p]** Load the iris data (in Python it’s built-in into machine learning libraries, use sklearn.datasets.load_iris), the data is also available on-line at https://archive.ics.uci.edu/ml/datasets/Iris\n",
    "\n",
    "2.  **[1p]** Irises are described with 4 attributes: petal and sepal widths and lengths. We often plot such data as matrices depicting relationships between pairs of attributes (the diagonal of which holds an ordinary histogram). Write code making a plot like the one below. Please pay attention to the details: make a proper legend and correctly label the axes.\n",
    "\n",
    "<img src=\"iris4x4.png\"/>"
   ]
  },
  {
   "cell_type": "code",
   "execution_count": 61,
   "metadata": {
    "collapsed": false
   },
   "outputs": [
    {
     "data": {
      "text/plain": [
       "<matplotlib.figure.Figure at 0x7f06870ec810>"
      ]
     },
     "metadata": {},
     "output_type": "display_data"
    },
    {
     "data": {
      "image/png": "[encoded data removed]",
      "text/plain": [
       "<matplotlib.figure.Figure at 0x7f06870ece90>"
      ]
     },
     "metadata": {},
     "output_type": "display_data"
    }
   ],
   "source": [
    "def make_plot(i, j):\n",
    "    data1 = iris.data[:, j]\n",
    "    data2 = iris.data[:, i]\n",
    "    for target in set(iris.target):\n",
    "        example_ids = target==iris.target\n",
    "        arr[i][j].scatter(data1[example_ids], data2[example_ids],\n",
    "                label=iris.target_names[target], color='bgr'[target],\n",
    "                marker = \"o\", alpha=0.7)\n",
    "\n",
    "plt.figure(1)\n",
    "f, arr = plt.subplots(4, 4, figsize=(10, 10))\n",
    "for i in range(4):\n",
    "    arr[3][i].set_xlabel(iris.feature_names[i])\n",
    "    arr[i][0].set_ylabel(iris.feature_names[i])\n",
    "    for j in range(4):\n",
    "        if i == j:\n",
    "            arr[i][j].hist(iris.data[:, i])\n",
    "        else:\n",
    "            make_plot(j, i)"
   ]
  },
  {
   "cell_type": "markdown",
   "metadata": {},
   "source": [
    "## Problem 3 [2p]\n",
    "\n",
    "Implement the k-Nearest Neighbors algorithm. Try to\n",
    "take advantage of matrix calculus rather than using for loops.\n",
    "\n",
    "**Tip:** What is computed by \\begin{equation} \\sqrt{(X - Y)^T (X - Y)} \\end{equation} when both X and Y are vectors?\n",
    "\n",
    "**Tip:** Try to use broadcasting (NumPy: http://docs.scipy.org/doc/numpy/user/basics.broadcasting.html) and built-ins sort, numpy.sort, numpy.argsort (sorting), scipy.stats.mode (choosing the most common element of the set)."
   ]
  },
  {
   "cell_type": "code",
   "execution_count": 3,
   "metadata": {
    "collapsed": true
   },
   "outputs": [],
   "source": [
    "from scipy import spatial, stats\n",
    "\n",
    "def KNN(train_data, test_data, train_data_classes, k):\n",
    "    dim = len(train_data[0])\n",
    "    assert dim == len(test_data[0])\n",
    "    train_cnt = len(train_data)\n",
    "    test_cnt = len(test_data)\n",
    "    train_data = train_data.transpose()\n",
    "    distance_matrix = np.dot(np.ones((test_cnt, dim)), train_data ** 2) + np.dot(test_data ** 2, np.ones((dim, train_cnt))) - 2 * np.dot(test_data, train_data)\n",
    "    knn_ids = np.argpartition(distance_matrix, k, axis = 1)[:, :k]\n",
    "    near_classes = train_data_classes[knn_ids]\n",
    "    return stats.mode(near_classes, axis =1)[0]\n",
    "\n"
   ]
  },
  {
   "cell_type": "markdown",
   "metadata": {},
   "source": [
    "## Problem 4 [2p]\n",
    "Consider the following experiment:\n",
    "1. We scramble the data and split it into two parts - training set (66.6% of all samples) and test set (33.4%).\n",
    "2. Based on the training set, we use the k-NN algorithm to predict the labels on the test set.\n",
    "3. We then check the number of errors and write it down.\n",
    "\n",
    "Do this 500 times for k ∈ {1, 3, 5, ..., 19}. Plot a function of the average number of errors\n",
    "as the function of k. It should be similar to the one below.\n",
    "\n",
    "<img src=\"knn.png\"/>"
   ]
  },
  {
   "cell_type": "code",
   "execution_count": 14,
   "metadata": {
    "collapsed": false
   },
   "outputs": [
    {
     "data": {
      "image/png": "[encoded data removed]",
      "text/plain": [
       "<matplotlib.figure.Figure at 0x7f068e352810>"
      ]
     },
     "metadata": {},
     "output_type": "display_data"
    }
   ],
   "source": [
    "def score_on_given_split(data, i, j, k) :\n",
    "    dim = len(data[0]) - 1\n",
    "    train_data = np.concatenate((data[:i, :dim], data[j:, :dim]))\n",
    "    train_data_classes = np.concatenate((data[:i, dim:], data[j:, dim:])).flatten().astype(np.int32)\n",
    "    test_data = data[i:j, :dim]\n",
    "    test_data_classes = data[i:j, dim:].flatten().astype(np.int32)\n",
    "    return 100 * spatial.distance.hamming(KNN(train_data, test_data, train_data_classes, k), test_data_classes)\n",
    "\n",
    "def score_on_random_split(data, train_sz, k) :\n",
    "    np.random.shuffle(data)\n",
    "    return score_on_given_split(data, train_sz, len(data), k)\n",
    "\n",
    "def show_data() :\n",
    "    plt.title('Iris classification using k-NN')\n",
    "    plt.xlabel('K')\n",
    "    plt.ylabel('Average classification error[%]')\n",
    "    plt.show()\n",
    "    \n",
    "def analyze_KNN_on_data(data, train_sz, k_range, num_attempts) :\n",
    "    plt.plot(range(1, k_range + 1, 2), [np.mean([score_on_random_split(data, train_sz, k) for i in range(num_attempts)])\n",
    "                               for k in range(1, k_range + 1, 2)])\n",
    "    show_data()\n",
    "    \n",
    "full_iris = np.concatenate((iris.data, iris.target.reshape((-1, 1))), axis = 1)\n",
    "analyze_KNN_on_data(full_iris, 100, 20, 500)"
   ]
  },
  {
   "cell_type": "markdown",
   "metadata": {},
   "source": [
    "## Problem 5 [2p] \n",
    "\n",
    "Apply the K-Nearest Neighbors (K-NN) algorithm to the MNIST and CIFAR10 datasets. \n",
    "\n",
    "The MNIST (http://yann.lecun.com/exdb/mnist/) dataset consists of normalized (centered and stretched) scans of hand-written digits. Specifically, each element of the dataset is a 28 × 28 grayscale image, thus having 764 8-bit pixels. \n",
    "\n",
    "The CIFAR10 (http://www.cs.toronto.edu/~kriz/cifar.html) dataset consists of small, 32 by 32 pixels, RGB images belonging to 10 categories.\n",
    "\n",
    "1. **[1p]** Download and load the MNIST and CIFAR10 datasets. For both datasets, display a few objects from each of the classes, paying attention to aesthetics and clarity of your presentation. **Note:** the datasets are available on Lab computers. Please use the code below to get started.\n",
    "\n",
    "2. **[2p]** Apply a k-NN classifier to the MNIST and CIFAR10 datasets. First, divide the training set into two parts, which we will call training and validation. On MNIST use the first 50000 samples for training and the last 10000 for validation. On CIFAR10, use 40000 to train and 10000 for validation. Then find the optimal number of neighbors by assessing the accuracy on the validation set. You do not need to repeat this experiment multiple times. Finally, compute the accuracy on the test set obtained with the best previously chosen number of neighbors. On MNIST you should get about 3% errors, while on CIFAR10 you should get about 70% errors. Why CIFAR10 is harder than MNIST? Pick a few mislabeled samples from the test dataset and plot them along with the correct ones. \n",
    "\n",
    "**Note:**\n",
    "  * MNIST and CIFAR10 are much larger than the Iris dataset. A good implementation needs about XXX minutes on Lab computers. Please optimize your algorithm:\n",
    "  * Compute the distances only once, then test for different values of k.\n",
    "  * Use vectorized expressions to compute the distance. It is possible to compute all distances between the training and testing points in one expression. Hint: think about the vectorized expression \\begin{equation}(X - Y)^T (X - Y).\\end{equation}\n",
    "  * You can use single precision numbers in computation.\n",
    "  * If your code is taking a long time o execute, please save its results before the lab session.\n",
    "\n",
    "**Note:** in NumPy, matrices have its own data type (dtype), which is retained during\n",
    "calculations. Please pay attention, i.e. do not subtract values of data types not\n",
    "having the sign bit, do not divide integers, etc. Results of such operations won’t be\n",
    "automatically casted to types having the required precision."
   ]
  },
  {
   "cell_type": "code",
   "execution_count": null,
   "metadata": {
    "collapsed": false
   },
   "outputs": [],
   "source": [
    "# loading MNIST data\n",
    "\n",
    "from fuel.datasets.mnist import MNIST\n",
    "from common.plotting import plot_mat\n",
    "\n",
    "\n",
    "mnist_train = MNIST((\"train\",), subset=slice(None,50000))\n",
    "mnist_validation = MNIST((\"train\",), subset=slice(50000, None))\n",
    "mnist_test = MNIST((\"test\",))\n",
    "\n",
    "print(\"We have %d training, %d validation, and %d test examples\" % (\n",
    "    mnist_train.num_examples, mnist_validation.num_examples, mnist_test.num_examples))\n",
    "print(\"The examples are pairs of %s:\" % (mnist_train.sources,))\n",
    "for i, source in enumerate(mnist_train.sources):\n",
    "    labels = mnist_train.axis_labels[source]\n",
    "    print('The source #%d named \"%s\" is a %dd array with axis: %s' % (\n",
    "        i, source, len(labels), labels))\n",
    "\n",
    "#Note that for larger datasets that are loaded into mameory the data_sources field may not exist!\n",
    "plot_mat(mnist_train.data_sources[0][:20], cmap='gray')"
   ]
  },
  {
   "cell_type": "code",
   "execution_count": null,
   "metadata": {
    "collapsed": true
   },
   "outputs": [],
   "source": [
    "#\n",
    "# TODO: plot an example of each class on MNIST and on CIFAR\n",
    "#"
   ]
  },
  {
   "cell_type": "code",
   "execution_count": null,
   "metadata": {
    "collapsed": true
   },
   "outputs": [],
   "source": [
    "#Extract the data matrices\n",
    "\n",
    "mnist_train_X = (mnist_train.data_sources[0].reshape(mnist_train.num_examples, -1) / 255.0).astype(np.single)\n",
    "mnist_train_Y = mnist_train.data_sources[1].ravel()\n",
    "\n",
    "mnist_valid_X = (mnist_validation.data_sources[0].reshape(mnist_validation.num_examples, -1) / 255.0).astype(np.single)\n",
    "mnist_valid_Y = mnist_validation.data_sources[1].ravel()"
   ]
  },
  {
   "cell_type": "code",
   "execution_count": null,
   "metadata": {
    "collapsed": false
   },
   "outputs": [],
   "source": [
    "from scipy.stats import mode\n",
    "\n",
    "def KNN(train_X, train_Y, test_X, test_Y, ks, batch_size=200):\n",
    "    \"\"\"\n",
    "    Compute error rate for various \n",
    "    \"\"\"\n",
    "    errs = np.zeros((len(ks),))\n",
    "    for i in xrange(0,test_Y.shape[0], batch_size):\n",
    "        batch_X = test_X[i:i + batch_size]\n",
    "        batch_Y = test_Y[i:i + batch_size]\n",
    "        print(\"Examples %d:%d Computing distances... \" %(i,i+batch_size), end='')\n",
    "        \n",
    "        #\n",
    "        # TODO: fill in an efficient distance matrix computation \n",
    "        #\n",
    "        dists = TODO\n",
    "        \n",
    "        print(\"Sorting... \", end='')\n",
    "        closest = np.argsort(dists,0)\n",
    "\n",
    "        print(\"Computing errors...\")\n",
    "        targets = train_Y[closest]\n",
    "        \n",
    "        for ki,k in enumerate(ks):\n",
    "            predictions, unused_counts = mode(targets[:k,:], axis=0)\n",
    "            predictions = predictions.ravel()\n",
    "            #\n",
    "            # TODO: fill in error count computation\n",
    "            #\n",
    "            errs[ki] += TODO\n",
    "        \n",
    "    errs /= test_Y.shape    \n",
    "    return np.vstack((ks, errs))"
   ]
  },
  {
   "cell_type": "code",
   "execution_count": null,
   "metadata": {
    "collapsed": false
   },
   "outputs": [],
   "source": [
    "# Now find the best k on the validation set\n",
    "\n",
    "mnist_validation_errs = KNN(mnist_train_X, mnist_train_Y, mnist_valid_X, mnist_valid_Y, [1,3,5,7,9])\n",
    "plot(mnist_validation_errs[0,:], mnist_validation_errs[1,:])\n"
   ]
  },
  {
   "cell_type": "code",
   "execution_count": null,
   "metadata": {
    "collapsed": false
   },
   "outputs": [],
   "source": [
    "# Now use the best k to compute the test error\n",
    "\n",
    "best_K =  TODO\n",
    "\n",
    "mnist_full_train = MNIST((\"train\",), )\n",
    "\n",
    "mnist_full_train_X = (mnist_full_train.data_sources[0].reshape(mnist_full_train.num_examples, -1) / 255.0).astype(np.single)\n",
    "mnist_full_train_Y = mnist_full_train.data_sources[1].ravel()\n",
    "\n",
    "mnist_test_X = (mnist_test.data_sources[0].reshape(mnist_test.num_examples, -1) / 255.0).astype(np.single)\n",
    "mnist_test_Y = mnist_test.data_sources[1].ravel()\n",
    "\n",
    "mnist_test_errs = KNN(mnist_full_train_X, mnist_full_train_Y, mnist_test_X, mnist_test_Y, [best_K])\n",
    "print(\"When k=%d the test error rate is %.1f%%\" % (mnist_test_errs[0,0], mnist_test_errs[1,0]*100.0))"
   ]
  },
  {
   "cell_type": "code",
   "execution_count": null,
   "metadata": {
    "collapsed": true
   },
   "outputs": [],
   "source": [
    "#\n",
    "# Now repeat the k-NN training for CIFAR10\n",
    "#"
   ]
  },
  {
   "cell_type": "markdown",
   "metadata": {},
   "source": [
    "# Locality sensitive hashing\n",
    "\n",
    "Problem 5 was about speeding up the inference using loops implicitly present in matrix multiplication instead of explicit loops in Python. In this problem, we will explore a strategy to truly reduce the total number of computations required to find nearest neighbors without sacrificing too much accuracy.\n",
    "\n",
    "To speed up nearest neighbor search we will employ *Locality Sensitive Hashing (LSH)* functions. For a given distance metric, the locality sensitive hash should put items that are similar into the same bucket. Notice that this is essentially a design choice opposite to traditional cryptographic hash functions that should amplify the difference of similar inputs (typically we want that small perturbations of data result in large changes to the hash value).\n",
    "\n",
    "One of the simplest implementations of LSH approximates the cosine distance. Let $x\\in \\mathbb{R}^N$ and $y\\in \\mathbb{R}^N$ be two vectors. Their cosine distance is defined as:\n",
    "\n",
    "\\begin{equation}\n",
    "    d_\\text{cos}(x,y) = \\frac{x \\cdot y}{\\|x\\| \\|y\\|} = \\cos\\left(\\theta(x,y)\\right),\n",
    "\\end{equation}\n",
    "where $\\theta(x,y)$ is the unsigned angle between $x$ and $y$.\n",
    "\n",
    "We will construct a family $H$ of hash functions that are an LSH for angle distances (an approximation to cosine distance). Assume $p\\in \\mathbb{R}^N$ is a random vector (components are sampled from the normal distribution) of length 1. Then define the hash function $h(x) = \\text{sgn}(x\\cdot p)$, where $\\text{sgn()}$ is the sign function. It can be proven that:\n",
    "\n",
    "\\begin{equation}\n",
    "    p_{h\\in H}[h(x)=h(y)] = 1 - \\frac{\\theta(x,y)}{\\pi}.\n",
    "\\end{equation}\n",
    "\n",
    "The equation means that the probability of a hash collision grows as the the angle between two vectors gets smaller. Therefore, vectors that are close according to the cosine distance will be put with high probability into the same bin (we use the fact that for small $\\theta$ we can approximate $\\cos(\\theta) = 1 - \\theta/\\pi$.\n",
    "\n",
    "We will say that a family of randomly chosen hash functions $H$ is $(d_1, d_2, p_1, p_2)$-sensitive with respect to a distance metric $d$ if for any $x$ and $y$:\n",
    "1. If $d(x,y) \\leq d_1$ then $p_{h\\in H}[h(x)=h(y)] \\geq p_1$.\n",
    "2. If $d(x,y) \\geq d_2$ then $p_{h\\in H}[h(x)=h(y)] \\leq p_2$.\n",
    "\n",
    "For example, our family of randomly chosen hyperplanes is $(d_1, d_2, (1-d_1)/\\pi, (1-d_2)/\\pi)$-sensitive.\n",
    "\n",
    "Ideally, vectors should be placed into the same bin with a high probability if their distance is smaller than a threshold, and with a low probability if their distance is larger that the threshold. By combining hashing functions we can get closer to this ideal sensitivity.\n",
    "\n",
    "Given a family of hash functions $H$ with sensitivity $(d_1, d_3, p_1, p_2)$ we can construct a new family $H'$ by combining $r$ functions from $H$:\n",
    "1. AND: let $h=[h_1, h_2, \\ldots, h_r] \\in H'$ and $h(x)=h(y)$ if and only if $\\forall_i h_i(x)=h_i(y)$. Then $H'$ is $(d_1, d_2, (p_1)^r, (p_2)^r)$-sensitive.\n",
    "2. OR: let $h=[h_1, h_2, \\ldots, h_r] \\in H'$ and $h(x)=h(y)$ if and only if $\\exists_i h_i(x)=h_i(y)$. Then $H'$ is $(d_1, d_2, 1-(1-p_1)^r, 1-(1-p_2)^r)$-sensitive.\n",
    "\n",
    "AND makes all probabilities shrink, but properly choosing $r$ we can make the lower probability approach 0 while the higher does not. Conversely, OR makes all probabilities grow, we can make the upper probability approach 1 while the lower does not.\n",
    "\n",
    "\n",
    "\n",
    "## Problem 6 [2-4p bonus] \n",
    "\n",
    "1. **[1bp]** **Note:** you can show sketches of proofs for this assignment.\n",
    "    1. Show that angle between vectors is a metric (https://en.wikipedia.org/wiki/Metric_(mathematics)).\n",
    "    \n",
    "    2. Show that $p_{h\\in H}[h(x)=h(y)] = 1 - \\frac{\\theta(x,y)}{\\pi}$ for $h$ computed using a randomly chosen hyperplane.\n",
    "\n",
    "    3. Show the properties of either AND or OR boosting of LSH.\n",
    "\n",
    "3. **[1-3bp]** Reimplement k-Nearest Neighbors for MNIST classification using the cosine distance instead of the Euclidean distance. Choose a sensible value of $k$. Use Locality Sensitive Hashing to achieve an error rate no greater than $150\\%$ of the original error rate with at least a $90\\%$ speedup (i.e., by considering on average at most 5000 training samples per query image). For a few settings plot the speedup-vs-accuracy relation.\n",
    "\n",
    "  **Note:** points will be awarded based on ingenuity of your solution. Feel free to explore your own ideas!\n"
   ]
  },
  {
   "cell_type": "code",
   "execution_count": null,
   "metadata": {
    "collapsed": true
   },
   "outputs": [],
   "source": []
  }
 ],
 "metadata": {
  "kernelspec": {
   "display_name": "Python 2",
   "language": "python",
   "name": "python2"
  },
  "language_info": {
   "codemirror_mode": {
    "name": "ipython",
    "version": 2
   },
   "file_extension": ".py",
   "mimetype": "text/x-python",
   "name": "python",
   "nbconvert_exporter": "python",
   "pygments_lexer": "ipython2",
   "version": "2.7.13"
  }
 },
 "nbformat": 4,
 "nbformat_minor": 0
}
